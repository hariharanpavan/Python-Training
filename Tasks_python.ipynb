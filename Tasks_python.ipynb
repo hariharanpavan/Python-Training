{
  "nbformat": 4,
  "nbformat_minor": 0,
  "metadata": {
    "colab": {
      "provenance": []
    },
    "kernelspec": {
      "name": "python3",
      "display_name": "Python 3"
    },
    "language_info": {
      "name": "python"
    }
  },
  "cells": [
    {
      "cell_type": "markdown",
      "source": [
        "# **DAY 2**"
      ],
      "metadata": {
        "id": "6i94R_iY3V8e"
      }
    },
    {
      "cell_type": "code",
      "source": [
        "# 1. What is the output of the following code?\n",
        "\n",
        "var1 = 1\n",
        "var2 = 2\n",
        "var3 = \"3\"\n",
        "\n",
        "print(var1 + var2 + var3)\n"
      ],
      "metadata": {
        "colab": {
          "base_uri": "https://localhost:8080/",
          "height": 210
        },
        "id": "aJHQVIsV3Yup",
        "outputId": "e15fd6b3-263d-4826-dc11-64f3b69ab81c"
      },
      "execution_count": null,
      "outputs": [
        {
          "output_type": "error",
          "ename": "TypeError",
          "evalue": "ignored",
          "traceback": [
            "\u001b[0;31m---------------------------------------------------------------------------\u001b[0m",
            "\u001b[0;31mTypeError\u001b[0m                                 Traceback (most recent call last)",
            "\u001b[0;32m<ipython-input-1-18af2cc0c02d>\u001b[0m in \u001b[0;36m<cell line: 5>\u001b[0;34m()\u001b[0m\n\u001b[1;32m      3\u001b[0m \u001b[0mvar3\u001b[0m \u001b[0;34m=\u001b[0m \u001b[0;34m\"3\"\u001b[0m\u001b[0;34m\u001b[0m\u001b[0;34m\u001b[0m\u001b[0m\n\u001b[1;32m      4\u001b[0m \u001b[0;34m\u001b[0m\u001b[0m\n\u001b[0;32m----> 5\u001b[0;31m \u001b[0mprint\u001b[0m\u001b[0;34m(\u001b[0m\u001b[0mvar1\u001b[0m \u001b[0;34m+\u001b[0m \u001b[0mvar2\u001b[0m \u001b[0;34m+\u001b[0m \u001b[0mvar3\u001b[0m\u001b[0;34m)\u001b[0m\u001b[0;34m\u001b[0m\u001b[0;34m\u001b[0m\u001b[0m\n\u001b[0m",
            "\u001b[0;31mTypeError\u001b[0m: unsupported operand type(s) for +: 'int' and 'str'"
          ]
        }
      ]
    },
    {
      "cell_type": "code",
      "source": [
        "# 2. What is the output of the following code?\n",
        "\n",
        "valueOne = 5 ** 2\n",
        "valueTwo = 5 ** 3\n",
        "\n",
        "print(valueOne)\n",
        "print(valueTwo)\n"
      ],
      "metadata": {
        "colab": {
          "base_uri": "https://localhost:8080/"
        },
        "id": "3ChYeyaz3i0-",
        "outputId": "db89b476-6c3f-4d67-fbe7-29e158ae12ab"
      },
      "execution_count": null,
      "outputs": [
        {
          "output_type": "stream",
          "name": "stdout",
          "text": [
            "25\n",
            "125\n"
          ]
        }
      ]
    },
    {
      "cell_type": "code",
      "source": [
        "# 3. What is the output of the following\n",
        "\n",
        "x = 36 / 4 * (3 +  2) * 4 + 2\n",
        "print(x)\n"
      ],
      "metadata": {
        "colab": {
          "base_uri": "https://localhost:8080/"
        },
        "id": "kUGniiK63pYl",
        "outputId": "31108619-bf14-4ed8-de58-578dd95cb845"
      },
      "execution_count": null,
      "outputs": [
        {
          "output_type": "stream",
          "name": "stdout",
          "text": [
            "182.0\n"
          ]
        }
      ]
    },
    {
      "cell_type": "code",
      "source": [
        "# 4. What is the output of the following code?\n",
        "\n",
        "var= \"James Bond\"\n",
        "print(var[2::-1])\n"
      ],
      "metadata": {
        "colab": {
          "base_uri": "https://localhost:8080/"
        },
        "id": "6XaizZgM3uF8",
        "outputId": "1e4271ae-cdcf-4e41-d234-1d86c8a0a058"
      },
      "execution_count": null,
      "outputs": [
        {
          "output_type": "stream",
          "name": "stdout",
          "text": [
            "maJ\n"
          ]
        }
      ]
    },
    {
      "cell_type": "code",
      "source": [
        "# 5. What is the output of the following code?\n",
        "\n",
        "p, q, r = 10, 20 ,30\n",
        "print(p, q, r)\n"
      ],
      "metadata": {
        "colab": {
          "base_uri": "https://localhost:8080/"
        },
        "id": "zN-pNMTm3xRH",
        "outputId": "9d593f53-6445-4a5f-ff42-1b32c2f66c98"
      },
      "execution_count": null,
      "outputs": [
        {
          "output_type": "stream",
          "name": "stdout",
          "text": [
            "10 20 30\n"
          ]
        }
      ]
    },
    {
      "cell_type": "code",
      "source": [
        "# 6. What is the output of the following code?\n",
        "\n",
        "str = \"pynative\"\n",
        "print (str[1:3])\n"
      ],
      "metadata": {
        "colab": {
          "base_uri": "https://localhost:8080/"
        },
        "id": "pqRWqwi132wE",
        "outputId": "ff80a33a-64aa-4812-ebe3-5065db68db61"
      },
      "execution_count": null,
      "outputs": [
        {
          "output_type": "stream",
          "name": "stdout",
          "text": [
            "yn\n"
          ]
        }
      ]
    },
    {
      "cell_type": "code",
      "source": [
        "# 7. What is the output of the following code?\n",
        "\n",
        "sampleSet = {\"Jodi\", \"Eric\", \"Garry\"}\n",
        "sampleSet.add(1, \"Vicki\")\n",
        "print(sampleSet)\n"
      ],
      "metadata": {
        "colab": {
          "base_uri": "https://localhost:8080/",
          "height": 227
        },
        "id": "vaya9smF36TZ",
        "outputId": "7ecd81c6-a097-425b-f9c0-796f8f787ca0"
      },
      "execution_count": null,
      "outputs": [
        {
          "output_type": "error",
          "ename": "TypeError",
          "evalue": "ignored",
          "traceback": [
            "\u001b[0;31m---------------------------------------------------------------------------\u001b[0m",
            "\u001b[0;31mTypeError\u001b[0m                                 Traceback (most recent call last)",
            "\u001b[0;32m<ipython-input-7-ab76e62f0ab7>\u001b[0m in \u001b[0;36m<cell line: 4>\u001b[0;34m()\u001b[0m\n\u001b[1;32m      2\u001b[0m \u001b[0;34m\u001b[0m\u001b[0m\n\u001b[1;32m      3\u001b[0m \u001b[0msampleSet\u001b[0m \u001b[0;34m=\u001b[0m \u001b[0;34m{\u001b[0m\u001b[0;34m\"Jodi\"\u001b[0m\u001b[0;34m,\u001b[0m \u001b[0;34m\"Eric\"\u001b[0m\u001b[0;34m,\u001b[0m \u001b[0;34m\"Garry\"\u001b[0m\u001b[0;34m}\u001b[0m\u001b[0;34m\u001b[0m\u001b[0;34m\u001b[0m\u001b[0m\n\u001b[0;32m----> 4\u001b[0;31m \u001b[0msampleSet\u001b[0m\u001b[0;34m.\u001b[0m\u001b[0madd\u001b[0m\u001b[0;34m(\u001b[0m\u001b[0;36m1\u001b[0m\u001b[0;34m,\u001b[0m \u001b[0;34m\"Vicki\"\u001b[0m\u001b[0;34m)\u001b[0m\u001b[0;34m\u001b[0m\u001b[0;34m\u001b[0m\u001b[0m\n\u001b[0m\u001b[1;32m      5\u001b[0m \u001b[0mprint\u001b[0m\u001b[0;34m(\u001b[0m\u001b[0msampleSet\u001b[0m\u001b[0;34m)\u001b[0m\u001b[0;34m\u001b[0m\u001b[0;34m\u001b[0m\u001b[0m\n",
            "\u001b[0;31mTypeError\u001b[0m: set.add() takes exactly one argument (2 given)"
          ]
        }
      ]
    },
    {
      "cell_type": "code",
      "source": [
        "# 8. What is the output of the following code?\n",
        "\n",
        "sampleList = [\"Jon\", \"Kelly\", \"Jessa\"]\n",
        "sampleList.append(2, \"Scott\")\n",
        "print(sampleList)\n"
      ],
      "metadata": {
        "colab": {
          "base_uri": "https://localhost:8080/",
          "height": 227
        },
        "id": "m_tIAJVx3-5S",
        "outputId": "34e7577e-9acb-47de-facc-57f239bb6c66"
      },
      "execution_count": null,
      "outputs": [
        {
          "output_type": "error",
          "ename": "TypeError",
          "evalue": "ignored",
          "traceback": [
            "\u001b[0;31m---------------------------------------------------------------------------\u001b[0m",
            "\u001b[0;31mTypeError\u001b[0m                                 Traceback (most recent call last)",
            "\u001b[0;32m<ipython-input-8-f40f7f913a09>\u001b[0m in \u001b[0;36m<cell line: 4>\u001b[0;34m()\u001b[0m\n\u001b[1;32m      2\u001b[0m \u001b[0;34m\u001b[0m\u001b[0m\n\u001b[1;32m      3\u001b[0m \u001b[0msampleList\u001b[0m \u001b[0;34m=\u001b[0m \u001b[0;34m[\u001b[0m\u001b[0;34m\"Jon\"\u001b[0m\u001b[0;34m,\u001b[0m \u001b[0;34m\"Kelly\"\u001b[0m\u001b[0;34m,\u001b[0m \u001b[0;34m\"Jessa\"\u001b[0m\u001b[0;34m]\u001b[0m\u001b[0;34m\u001b[0m\u001b[0;34m\u001b[0m\u001b[0m\n\u001b[0;32m----> 4\u001b[0;31m \u001b[0msampleList\u001b[0m\u001b[0;34m.\u001b[0m\u001b[0mappend\u001b[0m\u001b[0;34m(\u001b[0m\u001b[0;36m2\u001b[0m\u001b[0;34m,\u001b[0m \u001b[0;34m\"Scott\"\u001b[0m\u001b[0;34m)\u001b[0m\u001b[0;34m\u001b[0m\u001b[0;34m\u001b[0m\u001b[0m\n\u001b[0m\u001b[1;32m      5\u001b[0m \u001b[0mprint\u001b[0m\u001b[0;34m(\u001b[0m\u001b[0msampleList\u001b[0m\u001b[0;34m)\u001b[0m\u001b[0;34m\u001b[0m\u001b[0;34m\u001b[0m\u001b[0m\n",
            "\u001b[0;31mTypeError\u001b[0m: list.append() takes exactly one argument (2 given)"
          ]
        }
      ]
    },
    {
      "cell_type": "code",
      "source": [
        "# 9. What is the output of the following code?\n",
        "\n",
        "var = \"James\" * 2  * 3\n",
        "print(var)\n"
      ],
      "metadata": {
        "colab": {
          "base_uri": "https://localhost:8080/"
        },
        "id": "mWQwD8eM4Cf-",
        "outputId": "fa385a51-0ecc-4504-d5eb-981bd005b3e1"
      },
      "execution_count": null,
      "outputs": [
        {
          "output_type": "stream",
          "name": "stdout",
          "text": [
            "JamesJamesJamesJamesJamesJames\n"
          ]
        }
      ]
    },
    {
      "cell_type": "code",
      "source": [
        "# 10. What is the output of the following code?\n",
        "\n",
        "listOne = [20, 40, 60, 80]\n",
        "listTwo = [20, 40, 60, 80]\n",
        "\n",
        "print(listOne == listTwo)\n",
        "print(listOne is listTwo)\n"
      ],
      "metadata": {
        "colab": {
          "base_uri": "https://localhost:8080/"
        },
        "id": "9NZg37Us4Fxf",
        "outputId": "b7005a27-b98a-4c5f-824d-07e7d1cf8930"
      },
      "execution_count": null,
      "outputs": [
        {
          "output_type": "stream",
          "name": "stdout",
          "text": [
            "True\n",
            "False\n"
          ]
        }
      ]
    },
    {
      "cell_type": "code",
      "source": [
        "# 10. What would be the output of the following\n",
        "\n",
        "L = ['a', 'b', 'c', 'd', 'e', 'f', 'g', 'h', 'i']\n",
        "print(L[-7:-2])\n"
      ],
      "metadata": {
        "colab": {
          "base_uri": "https://localhost:8080/"
        },
        "id": "UURLwNpG4KpM",
        "outputId": "ebf21d0f-bab0-4640-f28a-7fcb4af60c01"
      },
      "execution_count": null,
      "outputs": [
        {
          "output_type": "stream",
          "name": "stdout",
          "text": [
            "['c', 'd', 'e', 'f', 'g']\n"
          ]
        }
      ]
    },
    {
      "cell_type": "code",
      "source": [
        "# 11. What would be the output of the following\n",
        "\n",
        "L = ['a', 'b', 'c', 'd', 'e', 'f', 'g', 'h', 'i']\n",
        "print(L[6:1:-2])\n"
      ],
      "metadata": {
        "colab": {
          "base_uri": "https://localhost:8080/"
        },
        "id": "AKweu9NA4Poo",
        "outputId": "99843c8e-1276-466b-d5b6-9764e8181b82"
      },
      "execution_count": null,
      "outputs": [
        {
          "output_type": "stream",
          "name": "stdout",
          "text": [
            "['g', 'e', 'c']\n"
          ]
        }
      ]
    },
    {
      "cell_type": "code",
      "source": [
        "# 12. What is the following code doing ?\n",
        "\n",
        "L = ['a', 'b', 'c', 'd', 'e']\n",
        "L[1:2] = [1, 2, 3]\n",
        "print(L)\n"
      ],
      "metadata": {
        "colab": {
          "base_uri": "https://localhost:8080/"
        },
        "id": "6KISeIe94TcA",
        "outputId": "dae9044e-5442-43cd-f92e-e938ea5423ee"
      },
      "execution_count": null,
      "outputs": [
        {
          "output_type": "stream",
          "name": "stdout",
          "text": [
            "['a', 1, 2, 3, 'c', 'd', 'e']\n"
          ]
        }
      ]
    },
    {
      "cell_type": "markdown",
      "source": [
        "# **DAY 1**"
      ],
      "metadata": {
        "id": "3--V7o5l5Adw"
      }
    },
    {
      "cell_type": "code",
      "execution_count": null,
      "metadata": {
        "id": "Cq5MAS8B1aKU"
      },
      "outputs": [],
      "source": [
        "my_dictionary = {'key1' : {'subkey1' : [23, 24, 25], 'subkey2' : [20, 24, 29], 'subkey3' : [25, 28, 35]},\n",
        "                     'key2' : {'subkey1' : [-23, -24, -25], 'subkey2' : [-20, -24, -29]},\n",
        "                     'key3' : [('Ravi', 'Mahesh', 'Mary', 'Johnson'), ([(23, 39), (45, 90)], ('Doctor', 'Engineer'))]}"
      ]
    },
    {
      "cell_type": "markdown",
      "metadata": {
        "id": "mAhm6OYy0PkQ"
      },
      "source": [
        "Exercise :\n",
        "    \n",
        "    1. Find the subkey in key1 of my dictionary with maximum average\n",
        "    2. Find the sum of subkey2 in key2 of my dictionary\n",
        "    3. Access the last character of last name of first element of key3 - 'n'\n",
        "    4. Access the last element of first element of second element of key3 - (45, 90)\n",
        "    5. Access the fourth letter of \"Engineer\" - \"n\""
      ]
    },
    {
      "cell_type": "code",
      "source": [
        "key1_subkeys = my_dictionary['key1']\n",
        "max_subkey = max(key1_subkeys, key=lambda k: sum(key1_subkeys[k]) / len(key1_subkeys[k]))\n",
        "print(f\"Subkey in key1 with maximum average: {max_subkey}\")"
      ],
      "metadata": {
        "colab": {
          "base_uri": "https://localhost:8080/"
        },
        "id": "NNcAjafw25LZ",
        "outputId": "262bffe6-aa3e-4662-e90e-3dd9e31a5235"
      },
      "execution_count": null,
      "outputs": [
        {
          "output_type": "stream",
          "name": "stdout",
          "text": [
            "Subkey in key1 with maximum average: subkey3\n"
          ]
        }
      ]
    },
    {
      "cell_type": "code",
      "source": [
        "sum_subkey2 = sum(my_dictionary['key2']['subkey2'])\n",
        "print(\"Sum of subkey2 in key2:\", sum_subkey2)"
      ],
      "metadata": {
        "colab": {
          "base_uri": "https://localhost:8080/"
        },
        "id": "WiHTz4Ak115_",
        "outputId": "557244c6-9eeb-4b1c-f0a1-376028464e00"
      },
      "execution_count": null,
      "outputs": [
        {
          "output_type": "stream",
          "name": "stdout",
          "text": [
            "Sum of subkey2 in key2: -73\n"
          ]
        }
      ]
    },
    {
      "cell_type": "code",
      "source": [
        "last_name = my_dictionary['key3'][0][-1]\n",
        "last_character = last_name[-1]\n",
        "print(\"Last character of last name:\", last_character)"
      ],
      "metadata": {
        "colab": {
          "base_uri": "https://localhost:8080/"
        },
        "id": "ndE9Zf1819vu",
        "outputId": "d1ba484b-bcf0-43ea-f1ac-e673c5556f15"
      },
      "execution_count": null,
      "outputs": [
        {
          "output_type": "stream",
          "name": "stdout",
          "text": [
            "Last character of last name: n\n"
          ]
        }
      ]
    },
    {
      "cell_type": "code",
      "source": [
        "last_element = my_dictionary['key3'][1][0][-1]\n",
        "print(\"Last element:\", last_element)"
      ],
      "metadata": {
        "colab": {
          "base_uri": "https://localhost:8080/"
        },
        "id": "aSGAo7Oj2HVU",
        "outputId": "d7c2f913-d066-4595-b2cb-e6c52665a373"
      },
      "execution_count": null,
      "outputs": [
        {
          "output_type": "stream",
          "name": "stdout",
          "text": [
            "Last element: (45, 90)\n"
          ]
        }
      ]
    },
    {
      "cell_type": "code",
      "source": [
        "fourth_letter = my_dictionary['key3'][1][1][-1][-4]\n",
        "print(\"Fourth letter of 'Engineer':\", fourth_letter)"
      ],
      "metadata": {
        "colab": {
          "base_uri": "https://localhost:8080/"
        },
        "id": "E2HBk5y_2LOY",
        "outputId": "f983843a-4462-4a9a-8884-aed693108e70"
      },
      "execution_count": null,
      "outputs": [
        {
          "output_type": "stream",
          "name": "stdout",
          "text": [
            "Fourth letter of 'Engineer': n\n"
          ]
        }
      ]
    }
  ]
}