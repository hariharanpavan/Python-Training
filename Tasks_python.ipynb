{
  "nbformat": 4,
  "nbformat_minor": 0,
  "metadata": {
    "colab": {
      "provenance": []
    },
    "kernelspec": {
      "name": "python3",
      "display_name": "Python 3"
    },
    "language_info": {
      "name": "python"
    }
  },
  "cells": [
    {
      "cell_type": "code",
      "execution_count": 1,
      "metadata": {
        "id": "Cq5MAS8B1aKU"
      },
      "outputs": [],
      "source": [
        "my_dictionary = {'key1' : {'subkey1' : [23, 24, 25], 'subkey2' : [20, 24, 29], 'subkey3' : [25, 28, 35]},\n",
        "                     'key2' : {'subkey1' : [-23, -24, -25], 'subkey2' : [-20, -24, -29]},\n",
        "                     'key3' : [('Ravi', 'Mahesh', 'Mary', 'Johnson'), ([(23, 39), (45, 90)], ('Doctor', 'Engineer'))]}"
      ]
    },
    {
      "cell_type": "markdown",
      "metadata": {
        "id": "mAhm6OYy0PkQ"
      },
      "source": [
        "Exercise :\n",
        "    \n",
        "    1. Find the subkey in key1 of my dictionary with maximum average\n",
        "    2. Find the sum of subkey2 in key2 of my dictionary\n",
        "    3. Access the last character of last name of first element of key3 - 'n'\n",
        "    4. Access the last element of first element of second element of key3 - (45, 90)\n",
        "    5. Access the fourth letter of \"Engineer\" - \"n\""
      ]
    },
    {
      "cell_type": "code",
      "source": [
        "key1_subkeys = my_dictionary['key1']\n",
        "max_subkey = max(key1_subkeys, key=lambda k: sum(key1_subkeys[k]) / len(key1_subkeys[k]))\n",
        "print(f\"Subkey in key1 with maximum average: {max_subkey}\")"
      ],
      "metadata": {
        "colab": {
          "base_uri": "https://localhost:8080/"
        },
        "id": "NNcAjafw25LZ",
        "outputId": "262bffe6-aa3e-4662-e90e-3dd9e31a5235"
      },
      "execution_count": 18,
      "outputs": [
        {
          "output_type": "stream",
          "name": "stdout",
          "text": [
            "Subkey in key1 with maximum average: subkey3\n"
          ]
        }
      ]
    },
    {
      "cell_type": "code",
      "source": [
        "sum_subkey2 = sum(my_dictionary['key2']['subkey2'])\n",
        "print(\"Sum of subkey2 in key2:\", sum_subkey2)"
      ],
      "metadata": {
        "colab": {
          "base_uri": "https://localhost:8080/"
        },
        "id": "WiHTz4Ak115_",
        "outputId": "557244c6-9eeb-4b1c-f0a1-376028464e00"
      },
      "execution_count": 2,
      "outputs": [
        {
          "output_type": "stream",
          "name": "stdout",
          "text": [
            "Sum of subkey2 in key2: -73\n"
          ]
        }
      ]
    },
    {
      "cell_type": "code",
      "source": [
        "last_name = my_dictionary['key3'][0][-1]\n",
        "last_character = last_name[-1]\n",
        "print(\"Last character of last name:\", last_character)"
      ],
      "metadata": {
        "colab": {
          "base_uri": "https://localhost:8080/"
        },
        "id": "ndE9Zf1819vu",
        "outputId": "d1ba484b-bcf0-43ea-f1ac-e673c5556f15"
      },
      "execution_count": 3,
      "outputs": [
        {
          "output_type": "stream",
          "name": "stdout",
          "text": [
            "Last character of last name: n\n"
          ]
        }
      ]
    },
    {
      "cell_type": "code",
      "source": [
        "last_element = my_dictionary['key3'][1][0][-1]\n",
        "print(\"Last element:\", last_element)"
      ],
      "metadata": {
        "colab": {
          "base_uri": "https://localhost:8080/"
        },
        "id": "aSGAo7Oj2HVU",
        "outputId": "d7c2f913-d066-4595-b2cb-e6c52665a373"
      },
      "execution_count": 10,
      "outputs": [
        {
          "output_type": "stream",
          "name": "stdout",
          "text": [
            "Last element: (45, 90)\n"
          ]
        }
      ]
    },
    {
      "cell_type": "code",
      "source": [
        "fourth_letter = my_dictionary['key3'][1][1][-1][-4]\n",
        "print(\"Fourth letter of 'Engineer':\", fourth_letter)"
      ],
      "metadata": {
        "colab": {
          "base_uri": "https://localhost:8080/"
        },
        "id": "E2HBk5y_2LOY",
        "outputId": "f983843a-4462-4a9a-8884-aed693108e70"
      },
      "execution_count": 16,
      "outputs": [
        {
          "output_type": "stream",
          "name": "stdout",
          "text": [
            "Fourth letter of 'Engineer': n\n"
          ]
        }
      ]
    }
  ]
}